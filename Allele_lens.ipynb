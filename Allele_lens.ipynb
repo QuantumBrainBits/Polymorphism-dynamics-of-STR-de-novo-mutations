{
 "cells": [
  {
   "cell_type": "code",
   "execution_count": 7,
   "id": "338ed527",
   "metadata": {},
   "outputs": [],
   "source": [
    "import gzip\n",
    "from collections import Counter\n",
    "import matplotlib.pyplot as plt\n",
    "import pandas as pd\n",
    "from tqdm import tqdm\n",
    "import numpy as np\n",
    "from zipfile import ZipFile\n",
    "from collections import OrderedDict\n",
    "import matplotlib.pyplot as plt\n",
    "import gzip\n",
    "import re\n",
    "import ast\n",
    "import os\n",
    "import json\n",
    "import pickle\n",
    "import plotly.figure_factory as ff\n",
    "import plotly.express as px\n",
    "import sys"
   ]
  },
  {
   "cell_type": "code",
   "execution_count": null,
   "id": "7d0102c9",
   "metadata": {},
   "outputs": [],
   "source": [
    "# Bash running code."
   ]
  },
  {
   "cell_type": "code",
   "execution_count": null,
   "id": "d9a900b2",
   "metadata": {},
   "outputs": [],
   "source": [
    "# Mutation rate:\n",
    "\n",
    "import gzip\n",
    "from collections import Counter\n",
    "import matplotlib.pyplot as plt\n",
    "import pandas as pd\n",
    "from tqdm import tqdm\n",
    "import numpy as np\n",
    "from zipfile import ZipFile\n",
    "from collections import OrderedDict\n",
    "import matplotlib.pyplot as plt\n",
    "import gzip\n",
    "import re\n",
    "import ast\n",
    "import os\n",
    "import json\n",
    "import pickle\n",
    "import plotly.figure_factory as ff\n",
    "import plotly.express as px\n",
    "import sys\n",
    "\n",
    "\n",
    "Read_directory = '../../../../Analysis_AV/filtered_vcfs/'\n",
    "Write_directory = '../../../../Analysis_KT/DeNovo_analysis/Basic_stats/Mutation_rates/'\n",
    "\n",
    "id = sys.argv[1]\n",
    "\n",
    "def filtered_vcfs(infile):\n",
    "    \n",
    "    write_file_id = infile.split('_')[0]\n",
    "    \n",
    "    out = open(f'{Write_directory}{write_file_id}_allele_lens.tsv', 'w')\n",
    "    \n",
    "    with gzip.open(f'{Read_directory}{infile}', 'rt') as individual_file:\n",
    "        \n",
    "        for line in individual_file:\n",
    "            \n",
    "            line = line.strip().split('\\t')\n",
    "            if line[0].startswith('#') or line[-1].startswith(\".\") or line[-1].startswith('M'): continue\n",
    "            \n",
    "            Start = line[7][line[7].find('START=')+6 :]\n",
    "            Start = int(Start[:Start.find(';')])\n",
    "            End = line[7][line[7].find('END=')+4 :]\n",
    "            End = int(End[:End.find(';')])                \n",
    "            sample_region = f'{line[0]}:{Start}-{End}'\n",
    "            \n",
    "            Genotypes = line[9][line[9].find(':')+1:]\n",
    "            Genotypes = Genotypes[:Genotypes.find(':')]\n",
    "            allele_lens = Genotypes.split('|')            \n",
    "            \n",
    "            print(sample_region, *allele_lens, file=out, sep = '\\t')\n",
    "\n",
    "    out.close()\n",
    "\n",
    "    \n",
    "filtered_vcfs(id)\n",
    "    "
   ]
  },
  {
   "cell_type": "code",
   "execution_count": null,
   "id": "168a47a0",
   "metadata": {},
   "outputs": [],
   "source": [
    "# 1. removing the zeros -&- 2. regions whos allele len is same as reference in > 50% of samples then don't add that value to \n",
    "#    the list -&- adding negative & positive values to diff lists.\n",
    "\n",
    "# [1,2,3,4]  [-1,-2,-4,-6] ----- without zeros in list & region which has same as refn allele lens.\n"
   ]
  },
  {
   "cell_type": "code",
   "execution_count": null,
   "id": "c98dea9b",
   "metadata": {},
   "outputs": [],
   "source": [
    "# "
   ]
  },
  {
   "cell_type": "code",
   "execution_count": null,
   "id": "b53095d6",
   "metadata": {},
   "outputs": [],
   "source": []
  },
  {
   "cell_type": "code",
   "execution_count": null,
   "id": "762b1af3",
   "metadata": {},
   "outputs": [],
   "source": []
  },
  {
   "cell_type": "code",
   "execution_count": null,
   "id": "0efca6eb",
   "metadata": {},
   "outputs": [],
   "source": []
  }
 ],
 "metadata": {
  "kernelspec": {
   "display_name": "Python 3 (ipykernel)",
   "language": "python",
   "name": "python3"
  },
  "language_info": {
   "codemirror_mode": {
    "name": "ipython",
    "version": 3
   },
   "file_extension": ".py",
   "mimetype": "text/x-python",
   "name": "python",
   "nbconvert_exporter": "python",
   "pygments_lexer": "ipython3",
   "version": "3.8.10"
  }
 },
 "nbformat": 4,
 "nbformat_minor": 5
}
